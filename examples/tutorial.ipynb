{
 "cells": [
  {
   "cell_type": "code",
   "execution_count": null,
   "metadata": {},
   "outputs": [],
   "source": [
    "from safebridge.damage_assessment import DamageAssessment\n",
    "from safebridge.data import Deck, Axis, Support, Ascending, Descending\n"
   ]
  },
  {
   "cell_type": "code",
   "execution_count": null,
   "metadata": {},
   "outputs": [],
   "source": [
    " \n",
    "da = DamageAssessment(\n",
    "    deck = Deck(source_file = \"./toy_data/deck.shp\"), \n",
    "    axis = Axis( source_file = \"./toy_data/axis.shp\" ), \n",
    "    support = Support(source_file = \"./toy_data/support.shp\"), \n",
    "    ascending = Ascending(\n",
    "        source_file = \"./toy_data/ascending_data.csv\",\n",
    "        unit = \"mm\",\n",
    "        lat_field = \"lat\",\n",
    "        lon_field = \"lon\",\n",
    "        orbit_azimuth = 348.66,\n",
    "        incidence_angle = 31.1,\n",
    "    ),\n",
    "    descending=Descending(\n",
    "        source_file = \"./toy_data/descending_data.csv\",\n",
    "        unit = \"mm\",\n",
    "        lat_field = \"lat\",\n",
    "        lon_field = \"lon\",\n",
    "        orbit_azimuth = 190.72,\n",
    "        incidence_angle = 35.4,\n",
    "    )\n",
    "    )\n"
   ]
  },
  {
   "cell_type": "code",
   "execution_count": null,
   "metadata": {},
   "outputs": [],
   "source": [
    "da.load_source_files()"
   ]
  },
  {
   "cell_type": "code",
   "execution_count": null,
   "metadata": {},
   "outputs": [],
   "source": [
    "da.preprocess(computational_projection=\"EPSG:28992\", buffer_distance = 6)"
   ]
  },
  {
   "cell_type": "code",
   "execution_count": null,
   "metadata": {},
   "outputs": [],
   "source": [
    "da.assess_damage()"
   ]
  },
  {
   "cell_type": "code",
   "execution_count": null,
   "metadata": {},
   "outputs": [],
   "source": [
    "da.generate_report()"
   ]
  }
 ],
 "metadata": {
  "kernelspec": {
   "display_name": "duckdb_dev",
   "language": "python",
   "name": "python3"
  },
  "language_info": {
   "codemirror_mode": {
    "name": "ipython",
    "version": 3
   },
   "file_extension": ".py",
   "mimetype": "text/x-python",
   "name": "python",
   "nbconvert_exporter": "python",
   "pygments_lexer": "ipython3",
   "version": "3.11.9"
  }
 },
 "nbformat": 4,
 "nbformat_minor": 2
}
